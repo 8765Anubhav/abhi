{
 "cells": [
  {
   "cell_type": "raw",
   "id": "63552658",
   "metadata": {},
   "source": [
    "1. A company decided to give bonus of 5% to employee if his/her year of service is \n",
    "more than 5 years. Ask user for their salary and year of service and print the net \n",
    "bonus amount"
   ]
  },
  {
   "cell_type": "code",
   "execution_count": 1,
   "id": "f7773b01",
   "metadata": {},
   "outputs": [
    {
     "name": "stdout",
     "output_type": "stream",
     "text": [
      "Enter your salary20000\n",
      "how many years of your service in our company6\n",
      "your net bonous amount is  1000.0\n"
     ]
    }
   ],
   "source": [
    "\n",
    "salary  = int(input(\"Enter your salary\"))\n",
    "service = int(input(\"how many years of your service in our company\"))\n",
    "\n",
    "if service >5:\n",
    "    bouns = 0.05*salary\n",
    "    print(\"your net bonous amount is \",bouns)\n",
    "else:\n",
    "    print(\"your bonous cannot be generated due to your service is not more than 5 year \")"
   ]
  },
  {
   "cell_type": "raw",
   "id": "67485b07",
   "metadata": {},
   "source": [
    "2. A school has following rules for grading system:\n",
    "a. Below 25 - F\n",
    "b. 25 to 45 - E\n",
    "c. 45 to 50 - D\n",
    "d. 50 to 60 - C\n",
    "e. 60 to 80 - B\n",
    "f. Above 80 - A"
   ]
  },
  {
   "cell_type": "code",
   "execution_count": 3,
   "id": "8fe144bd",
   "metadata": {
    "scrolled": true
   },
   "outputs": [
    {
     "name": "stdout",
     "output_type": "stream",
     "text": [
      "Enter your marks80\n",
      "your grade is A\n"
     ]
    }
   ],
   "source": [
    "marks = int(input(\"Enter your marks\"))\n",
    "text =\"your grade is\"\n",
    "if marks<25:\n",
    "    print(text,\"F\")\n",
    "elif 25<=marks<45:\n",
    "    print(text,\"E\")\n",
    "elif 45<=marks<50:\n",
    "    print(text,\"D\")\n",
    "elif 50<=marks<60:\n",
    "    print(text,\"C\")\n",
    "elif 60<=marks<80:\n",
    "    print(text,\"B\")\n",
    "else:\n",
    "    print(text,\"A\")"
   ]
  },
  {
   "cell_type": "raw",
   "id": "f17a5d06",
   "metadata": {},
   "source": [
    "3. A student will not be allowed to sit in exam if his/her attendence is less than 75%.\n",
    "Take following input from user\n",
    "Number of classes held\n",
    "Number of classes attended.\n",
    "And print\n",
    "percentage of class attended\n",
    "Is student is allowed to sit in exam or not."
   ]
  },
  {
   "cell_type": "code",
   "execution_count": 5,
   "id": "46ecf0db",
   "metadata": {},
   "outputs": [
    {
     "name": "stdout",
     "output_type": "stream",
     "text": [
      "how many classes are held100\n",
      "how many classes are attend by student72\n",
      "total percentageof this student is 72.0 %\n",
      "this student cannot be sit in final exam\n"
     ]
    }
   ],
   "source": [
    "classheld = int(input(\"how many classes are held\"))\n",
    "classattend = int(input(\"how many classes are attend by student\"))\n",
    "\n",
    "per = classattend/classheld * 100\n",
    "print(\"total percentageof this student is\",per,\"%\")\n",
    "if per<75:\n",
    "    print(\"this student cannot be sit in final exam\")\n",
    "else:\n",
    "    print(\"this student can be sit in final exam\")"
   ]
  },
  {
   "cell_type": "raw",
   "id": "150854e6",
   "metadata": {},
   "source": [
    "4. Ask user to enter age, sex ( M or F ), marital status ( Y or N ) and then using\n",
    "following rules print their place of service.\n",
    "if employee is female, then she will work only in urban areas.\n",
    "if employee is a male and age is in between 20 to 40 then he may work in anywhere\n",
    "if employee is male and age is in between 40 t0 60 then he will work in urban areas\n",
    "only.\n",
    "And any other input of age should print \"ERROR\""
   ]
  },
  {
   "cell_type": "code",
   "execution_count": 2,
   "id": "560b6f69",
   "metadata": {},
   "outputs": [
    {
     "name": "stdout",
     "output_type": "stream",
     "text": [
      "enter your age20\n",
      "what is you gender if male type m if female type fm\n",
      "if married type y else type Nn\n",
      "you can work from anywhere\n"
     ]
    }
   ],
   "source": [
    "age = int(input(\"enter your age\"))\n",
    "\n",
    "gender = input(\"what is you gender if male type m if female type f\")\n",
    "\n",
    "m_status = input(\"if married type y else type N\")\n",
    "\n",
    "if gender==\"f\":\n",
    "\n",
    "    print(\"you can only work in urban areas\")\n",
    "\n",
    "elif gender==\"m\" and (age>=20 and age<40):\n",
    "\n",
    "    print(\"you can work from anywhere\")\n",
    "\n",
    "elif gender==\"m\" and (age>=40 and age<=60):\n",
    "\n",
    "    print(\"you can work in urban areas only\")\n",
    "\n",
    "elif not(age<20 and age>60):\n",
    "\n",
    "    print(\"error\")"
   ]
  },
  {
   "cell_type": "raw",
   "id": "7113af7d",
   "metadata": {},
   "source": [
    "5. Take 10 integers from keyboard using loop and print their average value on the \n",
    "screen."
   ]
  },
  {
   "cell_type": "code",
   "execution_count": 4,
   "id": "324fa2ae",
   "metadata": {},
   "outputs": [
    {
     "name": "stdout",
     "output_type": "stream",
     "text": [
      "1\n",
      "2\n",
      "3\n",
      "4\n",
      "5\n",
      "6\n",
      "7\n",
      "8\n",
      "9\n",
      "10\n"
     ]
    }
   ],
   "source": [
    "for i in range(1, 11):\n",
    "    print(i)"
   ]
  },
  {
   "cell_type": "raw",
   "id": "a3dfd319",
   "metadata": {},
   "source": [
    "6. Write a program to calculate factorial of a number"
   ]
  },
  {
   "cell_type": "code",
   "execution_count": 4,
   "id": "d38f3c66",
   "metadata": {},
   "outputs": [
    {
     "name": "stdout",
     "output_type": "stream",
     "text": [
      "Enter number : 5\n",
      "Factorial = 120\n"
     ]
    }
   ],
   "source": [
    "i = int(input(\"Enter number : \"))\n",
    "fac = 1\n",
    "while i > 0:\n",
    "    fac=fac*i\n",
    "    i=i-1\n",
    "print(\"Factorial =\", fac)"
   ]
  },
  {
   "cell_type": "raw",
   "id": "c07e9e14",
   "metadata": {},
   "source": [
    "7.Take integer inputs from user until he/she presses q ( Ask to press q to quit after\n",
    "every integer input ). Print average and product of all numbers."
   ]
  },
  {
   "cell_type": "code",
   "execution_count": 3,
   "id": "3bf3ab7b",
   "metadata": {},
   "outputs": [
    {
     "name": "stdout",
     "output_type": "stream",
     "text": [
      "Start entering numbers\n",
      "5\n",
      "Press q when you are done inputting the numbers or y to continue\n",
      "y\n",
      "5\n",
      "Press q when you are done inputting the numbers or y to continue\n",
      "q\n",
      "Average 5.0\n",
      "Sum 10\n"
     ]
    }
   ],
   "source": [
    "print(\"Start entering numbers\")\n",
    "sum=0\n",
    "c=0\n",
    "while 1:\n",
    "    num=int(input())\n",
    "    c=c+1\n",
    "    sum=sum+num\n",
    "    print(\"Press q when you are done inputting the numbers or y to continue\")\n",
    "    m=input()\n",
    "    if m=='q':\n",
    "        break\n",
    "    \n",
    "print(\"Average\",sum/c)\n",
    "print(\"Sum\",sum)"
   ]
  },
  {
   "cell_type": "raw",
   "id": "96d00391",
   "metadata": {},
   "source": [
    "8. A three digit number is called Armstrong number if sum of cube of its digit is equal to \n",
    "number itself.\n"
   ]
  },
  {
   "cell_type": "code",
   "execution_count": 8,
   "id": "c3db0485",
   "metadata": {},
   "outputs": [
    {
     "name": "stdout",
     "output_type": "stream",
     "text": [
      "153\n",
      "370\n",
      "371\n",
      "407\n"
     ]
    }
   ],
   "source": [
    "for num in range(100,1000):\n",
    "  temp=num\n",
    "  sum=0\n",
    "  while temp>0:\n",
    "    digit=temp%10\n",
    "    sum=sum+digit**3\n",
    "    temp=temp//10\n",
    "\n",
    "  if sum==num:\n",
    "    print (num)"
   ]
  },
  {
   "cell_type": "raw",
   "id": "fbf379d7",
   "metadata": {},
   "source": [
    "9.Write a program to find the length of the string \"refrigerator\" without \n",
    "using len function"
   ]
  },
  {
   "cell_type": "code",
   "execution_count": 11,
   "id": "5da945bb",
   "metadata": {
    "scrolled": false
   },
   "outputs": [
    {
     "name": "stdout",
     "output_type": "stream",
     "text": [
      "12\n"
     ]
    }
   ],
   "source": [
    "a = \"refrigerator\"\n",
    "count = 0\n",
    "for i in a:\n",
    "  count = count+1\n",
    "print (count)"
   ]
  },
  {
   "cell_type": "raw",
   "id": "2b92c123",
   "metadata": {},
   "source": [
    "10. Write a program that takes your full name as input and displays the abbreviations of \n",
    "the first and middle names except the last name which is displayed as it is. For \n",
    "example, if your name is Robert Brett Roser, then the output should be R.B.Roser"
   ]
  },
  {
   "cell_type": "code",
   "execution_count": 13,
   "id": "abf1d3b6",
   "metadata": {
    "scrolled": true
   },
   "outputs": [
    {
     "name": "stdout",
     "output_type": "stream",
     "text": [
      "R. B. Roser\n"
     ]
    }
   ],
   "source": [
    "a = \"Robert Brett Roser\"\n",
    "a = a.split()\n",
    "b = a[0][0]+\". \"+a[1][0]+\". \"+a[2]\n",
    "print (b)"
   ]
  },
  {
   "cell_type": "code",
   "execution_count": null,
   "id": "c950d07d",
   "metadata": {},
   "outputs": [],
   "source": []
  }
 ],
 "metadata": {
  "kernelspec": {
   "display_name": "Python 3",
   "language": "python",
   "name": "python3"
  },
  "language_info": {
   "codemirror_mode": {
    "name": "ipython",
    "version": 3
   },
   "file_extension": ".py",
   "mimetype": "text/x-python",
   "name": "python",
   "nbconvert_exporter": "python",
   "pygments_lexer": "ipython3",
   "version": "3.8.8"
  }
 },
 "nbformat": 4,
 "nbformat_minor": 5
}
